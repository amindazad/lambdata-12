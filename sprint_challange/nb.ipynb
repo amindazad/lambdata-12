{
 "nbformat": 4,
 "nbformat_minor": 2,
 "metadata": {
  "language_info": {
   "name": "python",
   "codemirror_mode": {
    "name": "ipython",
    "version": 3
   },
   "version": "3.7.4-final"
  },
  "orig_nbformat": 2,
  "file_extension": ".py",
  "mimetype": "text/x-python",
  "name": "python",
  "npconvert_exporter": "python",
  "pygments_lexer": "ipython3",
  "version": 3,
  "kernelspec": {
   "name": "python37464bitlambdata12venvbd5f915038a84fd39f51eedd997e1147",
   "display_name": "Python 3.7.4 64-bit ('lambdata-12': venv)"
  }
 },
 "cells": [
  {
   "cell_type": "code",
   "execution_count": 2,
   "metadata": {},
   "outputs": [],
   "source": [
    "import random\n",
    "from random import randint, sample, uniform\n",
    "from acme import Product\n",
    "\n",
    "# Useful to use with random.sample to generate names\n",
    "ADJECTIVES = ['Awesome', 'Shiny', 'Impressive', 'Portable', 'Improved']\n",
    "NOUNS = ['Anvil', 'Catapult', 'Disguise', 'Mousetrap', '???']\n",
    "\n",
    "\n",
    "def generate_products(num_products=30):\n",
    "    names = []\n",
    "    prices = []\n",
    "    weights = []\n",
    "    flamms = []\n",
    "    for x in range(num_products):\n",
    "        product = Product(\n",
    "            name =  [random.choice(ADJECTIVES) + \" \" + random.choice(NOUNS)],\n",
    "            price = [randint(5,100)],\n",
    "            weight = [randint(5,100)],\n",
    "            flammability = [uniform(0.5,2.5)])\n",
    "        names.append(name)\n",
    "        prices.append(price)\n",
    "        weights.append(weight)\n",
    "        flamms.append(flammability)\n",
    "    return names, prices, weights, flamms\n",
    ""
   ]
  },
  {
   "cell_type": "code",
   "execution_count": 7,
   "metadata": {},
   "outputs": [
    {
     "output_type": "error",
     "ename": "SyntaxError",
     "evalue": "invalid syntax (<ipython-input-7-c9e0d8231bef>, line 4)",
     "traceback": [
      "\u001b[0;36m  File \u001b[0;32m\"<ipython-input-7-c9e0d8231bef>\"\u001b[0;36m, line \u001b[0;32m4\u001b[0m\n\u001b[0;31m    print(\"Average price:\", sum(prices) / len(prices))\u001b[0m\n\u001b[0m        ^\u001b[0m\n\u001b[0;31mSyntaxError\u001b[0m\u001b[0;31m:\u001b[0m invalid syntax\n"
     ]
    }
   ],
   "source": [
    "def inventory_report(names, prices, weights, flamms):\n",
    "    print('ACME CORPORATION OFFICIAL INVENTORY REPORT')\n",
    "    print(\"unique product name:\",len(set(names))\n",
    "    print(\"Average price:\", sum(prices) / len(prices))\n",
    "    print(\"Average weight:\", sum(weights) / len(weights))\n",
    "    print(\"Average flammability:\", sum(flamms) / len(flamms))\n",
    "    \n",
    "\n",
    "\n",
    "if __name__ == '__main__':\n",
    "    inventory_report(generate_products())\n",
    ""
   ]
  },
  {
   "cell_type": "code",
   "execution_count": 5,
   "metadata": {},
   "outputs": [
    {
     "output_type": "error",
     "ename": "NameError",
     "evalue": "name 'inventory_report' is not defined",
     "traceback": [
      "\u001b[0;31m---------------------------------------------------------------------------\u001b[0m",
      "\u001b[0;31mNameError\u001b[0m                                 Traceback (most recent call last)",
      "\u001b[0;32m<ipython-input-5-2d55678bd9f9>\u001b[0m in \u001b[0;36m<module>\u001b[0;34m\u001b[0m\n\u001b[0;32m----> 1\u001b[0;31m \u001b[0minventory_report\u001b[0m\u001b[0;34m(\u001b[0m\u001b[0;34m)\u001b[0m\u001b[0;34m\u001b[0m\u001b[0;34m\u001b[0m\u001b[0m\n\u001b[0m",
      "\u001b[0;31mNameError\u001b[0m: name 'inventory_report' is not defined"
     ]
    }
   ],
   "source": [
    "inventory_report()"
   ]
  },
  {
   "cell_type": "code",
   "execution_count": null,
   "metadata": {},
   "outputs": [],
   "source": []
  }
 ]
}